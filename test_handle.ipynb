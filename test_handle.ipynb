{
 "cells": [
  {
   "cell_type": "code",
   "execution_count": null,
   "metadata": {},
   "outputs": [],
   "source": [
    "#Assuming this is the output of the comparison with the training set\n",
    "pass_case_array= ['0', '0', 'h', 'g', 'i', '3', 'n', '7']\n",
    "fail_case_array= ['n', '2', 'u', 'j', 'h', 'k', '0', 'b']\n",
    "\n",
    "\n",
    "import os\n",
    "\n",
    "def separate_characters_from_filename(file_path):\n",
    "    file_name = os.path.basename(file_path).split('.')[0]\n",
    "    \n",
    "    prefix = file_name.split('-')[0]\n",
    "    \n",
    "    return list(prefix)\n",
    "\n",
    "file_path = \"train/00hgi3n7-0.png\"\n",
    "result = separate_characters_from_filename(file_path)\n",
    "print(result)  \n"
   ]
  }
 ],
 "metadata": {
  "kernelspec": {
   "display_name": "Python 3",
   "language": "python",
   "name": "python3"
  },
  "language_info": {
   "name": "python",
   "version": "3.11.5"
  }
 },
 "nbformat": 4,
 "nbformat_minor": 2
}
